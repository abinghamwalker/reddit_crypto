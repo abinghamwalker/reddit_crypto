{
 "cells": [
  {
   "cell_type": "code",
   "execution_count": null,
   "id": "756f2e43",
   "metadata": {
    "vscode": {
     "languageId": "plaintext"
    }
   },
   "outputs": [],
   "source": []
  },
  {
   "cell_type": "markdown",
   "id": "9a159c92",
   "metadata": {},
   "source": [
    "# Workflow\n",
    "- We need to first ingest price and market information according to interval (to adjust change config defaults in config.py), this is done in one command for both price and reddit information because they will always be aligned in this pipeline.\n",
    "    ```\n",
    "    uv run python main.py acquire\n",
    "    ```"
   ]
  },
  {
   "cell_type": "markdown",
   "id": "d2802538",
   "metadata": {},
   "source": []
  }
 ],
 "metadata": {
  "language_info": {
   "name": "python"
  }
 },
 "nbformat": 4,
 "nbformat_minor": 5
}
